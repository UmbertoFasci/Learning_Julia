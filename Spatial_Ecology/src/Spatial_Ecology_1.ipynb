{
 "cells": [
  {
   "cell_type": "code",
   "execution_count": 1,
   "metadata": {},
   "outputs": [
    {
     "ename": "ArgumentError",
     "evalue": "ArgumentError: provide a valid sink argument, like `using DataFrames; CSV.read(source, DataFrame)`",
     "output_type": "error",
     "traceback": [
      "ArgumentError: provide a valid sink argument, like `using DataFrames; CSV.read(source, DataFrame)`\n",
      "\n",
      "Stacktrace:\n",
      " [1] read(source::String, sink::Nothing; copycols::Bool, kwargs::Base.Pairs{Symbol, Union{}, Tuple{}, NamedTuple{(), Tuple{}}})\n",
      "   @ CSV ~/.julia/packages/CSV/jFiCn/src/CSV.jl:89\n",
      " [2] read(source::String, sink::Nothing) (repeats 2 times)\n",
      "   @ CSV ~/.julia/packages/CSV/jFiCn/src/CSV.jl:87\n",
      " [3] top-level scope\n",
      "   @ ~/Learning_Julia/Spatial_Ecology/src/Spatial_Ecology_1.ipynb:5"
     ]
    }
   ],
   "source": [
    "using SpatialEcology, Plots, CSV, DataFrames, Statistics\n",
    "\n",
    "# the object constructors take a wide range of objects, a typical one being a presence-absence matrix as a\n",
    "# DataFrame and a 3-column dataframe with coordinates.\n",
    "amphdata = CSV.read(joinpath(dirname(pathof(SpatialEcology)), \"..\", \"data\", \"amph_Europe.csv\"));\n",
    "amphdata[1:3,1:6]\n",
    "\n",
    "amph = Assemblage(amphdata[4:end],amphdata[1:3], sitecolumns = false)\n",
    "\n",
    "plot(amph)"
   ]
  }
 ],
 "metadata": {
  "kernelspec": {
   "display_name": "Julia 1.8.2",
   "language": "julia",
   "name": "julia-1.8"
  },
  "language_info": {
   "file_extension": ".jl",
   "mimetype": "application/julia",
   "name": "julia",
   "version": "1.8.2"
  },
  "orig_nbformat": 4
 },
 "nbformat": 4,
 "nbformat_minor": 2
}
